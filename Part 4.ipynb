{
 "cells": [
  {
   "cell_type": "markdown",
   "metadata": {},
   "source": [
    "#  4.1 Webscraping and scraping from PDF"
   ]
  },
  {
   "cell_type": "code",
   "execution_count": 14,
   "metadata": {},
   "outputs": [],
   "source": [
    "import PyPDF2\n",
    "import codecs\n",
    "from urllib.request import urlopen\n",
    "from bs4 import BeautifulSoup\n",
    "import sys\n",
    "import warnings\n",
    "if not sys.warnoptions:\n",
    "    warnings.simplefilter(\"ignore\")"
   ]
  },
  {
   "cell_type": "markdown",
   "metadata": {},
   "source": [
    "# 4.1.1 scraping from PDF"
   ]
  },
  {
   "cell_type": "code",
   "execution_count": 15,
   "metadata": {},
   "outputs": [],
   "source": [
    "totalstr=''\n",
    "for i in range(8):\n",
    "    path='text{}.pdf'.format(i+1)\n",
    "    test=PyPDF2.PdfFileReader(path)\n",
    "    maxpage=test.numPages\n",
    "    li=[]\n",
    "    for i in range(maxpage):\n",
    "        li.append(test.getPage(i))\n",
    "    for i in range(maxpage):\n",
    "        totalstr+=li[i].extractText()"
   ]
  },
  {
   "cell_type": "markdown",
   "metadata": {},
   "source": [
    "# 4.1.2 web scraping"
   ]
  },
  {
   "cell_type": "code",
   "execution_count": 16,
   "metadata": {},
   "outputs": [],
   "source": [
    "webpath=[]\n",
    "webpath.append(\"https://www.sydney.com/things-to-do/adventure-and-sport/cycling\")\n",
    "webpath.append(\"https://www.campbelltown.nsw.gov.au/ServicesandFacilities/BicycleEducationCentre\")\n",
    "webpath.append(\"https://www.bikehiresydneyolympicpark.com.au/\")\n",
    "webpath.append(\"http://www.sydneycycleways.net/resources/sydney-rides/\")\n",
    "webpath.append(\"https://www.cityofsydney.nsw.gov.au/explore/getting-around/cycling\")\n",
    "webpath.append(\"https://www.cityofsydney.nsw.gov.au/explore/getting-around/cycling/dockless-bike-sharing\")\n",
    "webpath.append(\"https://whatson.cityofsydney.nsw.gov.au/events/free-bike-tune-ups-surry-hills\")\n",
    "webpath.append(\"https://concreteplayground.com/sydney/travel-leisure/leisure/the-ten-best-bike-rides-in-sydney\")\n",
    "webpath.append(\"http://sydneycyclingclub.org.au/tours/\")\n",
    "webpath.append(\"https://en.wikipedia.org/wiki/Cycling_in_Sydney\")\n",
    "webpath.append(\"http://www.sydneycyclist.com/\")\n",
    "webpath.append(\"https://www.mapmyride.com/au/sydney-new-south-wales/\")\n",
    "webpath.append(\"https://edition.cnn.com/travel/article/sydney-best-bike-paths/index.html\")\n",
    "webpath.append(\"https://wiki.openstreetmap.org/wiki/Sydney_Cycle_Routes\")\n",
    "webpath.append(\"https://www.bikenorth.org.au/\")\n",
    "webpath.append(\"https://theculturetrip.com/pacific/australia/articles/the-most-spectacular-cycling-routes-near-sydney-australia/\")\n",
    "st=''\n",
    "for i in webpath:\n",
    "    url =i\n",
    "    handle_url = urlopen(url)\n",
    "    bs = BeautifulSoup(handle_url, 'lxml')\n",
    "    st+=bs.get_text()\n",
    "totalstr+=st"
   ]
  },
  {
   "cell_type": "markdown",
   "metadata": {},
   "source": [
    "# 4.1.3 Write to a file"
   ]
  },
  {
   "cell_type": "code",
   "execution_count": 17,
   "metadata": {},
   "outputs": [],
   "source": [
    "text_file = codecs.open(\"Output.txt\", \"w\",\"utf-8\")\n",
    "text_file.write(totalstr)\n",
    "text_file.close()"
   ]
  },
  {
   "cell_type": "markdown",
   "metadata": {},
   "source": [
    "# 4.2 Natural language processing"
   ]
  },
  {
   "cell_type": "code",
   "execution_count": 18,
   "metadata": {},
   "outputs": [],
   "source": [
    "import os\n",
    "from nltk.corpus import stopwords \n",
    "from math import sqrt\n",
    "from math import ceil\n",
    "import spacy\n",
    "from spacy import displacy\n",
    "from collections import Counter\n",
    "import pandas as pd"
   ]
  },
  {
   "cell_type": "markdown",
   "metadata": {},
   "source": [
    "# 4.2.1 Read content from Output.txt"
   ]
  },
  {
   "cell_type": "code",
   "execution_count": 19,
   "metadata": {},
   "outputs": [],
   "source": [
    "st=\"\"\n",
    "file=open(\"Output.txt\",\"r\")\n",
    "file.seek(0,os.SEEK_END)\n",
    "file_length=file.tell()\n",
    "file.seek(0,os.SEEK_SET)\n",
    "count=0\n",
    "while count<file_length:\n",
    "    try:\n",
    "        st+=file.read(1)\n",
    "    except:\n",
    "        continue\n",
    "    count+=1"
   ]
  },
  {
   "cell_type": "markdown",
   "metadata": {},
   "source": [
    "# 4.2.2 text pre-processing"
   ]
  },
  {
   "cell_type": "code",
   "execution_count": 20,
   "metadata": {},
   "outputs": [],
   "source": [
    "stop = set(stopwords.words('english')) \n",
    "filter_st= [word for word in st.split(' ') if word not in stop]\n",
    "st=''\n",
    "for i in filter_st:\n",
    "    st+=i.replace(\"\\n\",\"\")+\" \""
   ]
  },
  {
   "cell_type": "markdown",
   "metadata": {},
   "source": [
    "# 4.2.3 machine learning part"
   ]
  },
  {
   "cell_type": "code",
   "execution_count": 21,
   "metadata": {},
   "outputs": [],
   "source": [
    "nlp = spacy.load('en_core_web_sm')\n",
    "count=1\n",
    "st_list=[]\n",
    "if (len(st)>999999):\n",
    "    count=ceil(len(st)/999999)\n",
    "len_st=len(st)\n",
    "for i in range(count):\n",
    "    try:\n",
    "        st_list.append(st[i*999999:(i+1)*999999])\n",
    "    except:\n",
    "        st_list.append(st[i*999999:len_st])\n",
    "doc_list=[]\n",
    "for i in range(count):\n",
    "    doc_list.append(nlp(st_list[i]))\n",
    "doc_ents=[]\n",
    "for i in range(count):\n",
    "    doc_ents+=list(doc_list[i].ents)"
   ]
  },
  {
   "cell_type": "markdown",
   "metadata": {},
   "source": [
    "# 4.2.4 delete the word that must not be the name of distinct according to the machine learning result"
   ]
  },
  {
   "cell_type": "code",
   "execution_count": 22,
   "metadata": {},
   "outputs": [],
   "source": [
    "maybe_placename=[]\n",
    "for i in doc_ents:\n",
    "    if i.label_ not in ['TIME','QUANTITY','DATE','LANGUAGE','MONEY']:\n",
    "        maybe_placename.append(str(i))"
   ]
  },
  {
   "cell_type": "markdown",
   "metadata": {},
   "source": [
    "# 4.2.5 import district name from csv"
   ]
  },
  {
   "cell_type": "code",
   "execution_count": 23,
   "metadata": {},
   "outputs": [],
   "source": [
    "data=pd.read_csv(\"BikeSharingPods.csv\")\n",
    "area_name=list(data['name'])\n",
    "district=[]\n",
    "for i in area_name:\n",
    "    to_add=i.split('-')[0]\n",
    "    if to_add[-1]!=' ':\n",
    "        district.append(to_add)\n",
    "    else:\n",
    "        district.append(to_add[:-1]) "
   ]
  },
  {
   "cell_type": "markdown",
   "metadata": {},
   "source": [
    "# 4.2.6 handle outlier and return the answer"
   ]
  },
  {
   "cell_type": "code",
   "execution_count": 24,
   "metadata": {},
   "outputs": [
    {
     "name": "stdout",
     "output_type": "stream",
     "text": [
      "{'Lavender Bay': 1, 'Enmore': 1, 'Redfern': 0, 'Kings Cross': 0, 'Newtown South': 1, 'Paddington': 0, 'Marrickville': 2, 'Zetland': 0, 'Elizabeth Bay': 1, 'St Leonards': 0, 'McMahons Point': 1, 'Glebe': 1, 'Summer Hill': 2, 'Haymarket': 5, 'Potts Point': 1, 'Randwick': 2, 'Clovelly': 0, 'Balmain': 1, 'Erskineville': 0, 'Surry Hills': 3, 'Darlinghurst': 0, 'Coogee': 0, 'Annandale': 0, 'Darlington': 0, 'Chippendale': 0, 'Woolloomooloo': 0, 'Petersham': 0, 'Manly': 0, 'North Sydney': 11, 'Newtown North': 5, 'Pyrmont': 2, 'Leichardt': 0, 'Neutral Bay': 1, 'Artarmon': 1, 'Fairlight': 7, 'Sydney CBD': 10, 'Newtown': 1, 'McMahons Point ': 1, 'Rozelle': 2, 'Ultimo': 0, 'Birchgrove': 0, 'Millers Point': 1, 'Bondi': 0, 'Bondi Junction': 1, 'Camperdown': 0, 'Bondi North': 4, 'Chatswood': 3, 'Milsons Point': 1, 'Mosman': 0, 'Bronte': 0, 'Dulwich Hill': 1, 'Waverton': 0, 'Forest Lodge': 1, 'Cremorne': 0, 'Balmain East': 2, 'Kirribilli': 1, 'Parramatta': 3, 'Lane Cove': 3, 'Kingsford': 0, 'Kensington': 0, 'Coogee Beach': 0, 'Church Point': 2, 'Waterloo': 0, 'Ashfield ': 1, 'Tamarama': 0, 'Crows Nest': 1, 'UNSW': 11, 'Rose Bay': 1, 'Charing Cross': 0, 'Leichhardt': 1, 'Maroubra': 0, 'Bondi Beach': 0, 'Macquarie Park': 2, 'Stanmore': 3, 'Drummoyne': 0, 'Ashfield': 1, 'Alexandria': 1, 'Coogee North': 4, 'Kings cross': 0, 'Double Bay': 1, 'Lewisham': 1, 'Rushcutters Bay': 4, 'Bondi South': 0, 'Edgecliff': 0, 'Coogee South': 0, 'St Marys Cathedral': 1}\n"
     ]
    }
   ],
   "source": [
    "dic={}\n",
    "for i in district:\n",
    "    count=0\n",
    "    for ii in maybe_placename:\n",
    "        if ii.lower() in i.lower():\n",
    "            count+=1\n",
    "    dic[i]=count\n",
    "avg=0\n",
    "for i in dic:\n",
    "    avg+=dic[i]\n",
    "avg=avg/len(dic)\n",
    "for i in dic:\n",
    "    if dic[i]>avg:\n",
    "        dic[i]=int(sqrt(dic[i]))\n",
    "print(dic)"
   ]
  }
 ],
 "metadata": {
  "kernelspec": {
   "display_name": "Python 3",
   "language": "python",
   "name": "python3"
  },
  "language_info": {
   "codemirror_mode": {
    "name": "ipython",
    "version": 3
   },
   "file_extension": ".py",
   "mimetype": "text/x-python",
   "name": "python",
   "nbconvert_exporter": "python",
   "pygments_lexer": "ipython3",
   "version": "3.7.1"
  }
 },
 "nbformat": 4,
 "nbformat_minor": 2
}
